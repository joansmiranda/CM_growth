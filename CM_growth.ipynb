{
 "cells": [
  {
   "cell_type": "markdown",
   "id": "a4592c77",
   "metadata": {},
   "source": [
    "# MODELO CLÁSICO\n",
    "\n",
    "Se desarrolla el modelo clásico de Blecker y Setterfield (2020).\n",
    "\n",
    "# LIBRERÍAS\n",
    "\n",
    "Se necesitan las siguientes dos librerías"
   ]
  },
  {
   "cell_type": "code",
   "execution_count": 49,
   "id": "54f33ea7",
   "metadata": {},
   "outputs": [],
   "source": [
    "import numpy as np\n",
    "import matplotlib.pyplot as plt"
   ]
  },
  {
   "cell_type": "markdown",
   "id": "70c736fb",
   "metadata": {},
   "source": [
    "\n",
    "# CONTENIDO \n",
    "\n",
    "1. [Modelo clásico](##clasico)\n",
    "2. [Cierre I](##Cierre1)\n",
    "3. [Cierre II](##Cierre2)\n",
    "4. [Cierre III](##Cierre3)\n",
    "5. [Cierre IV](##Cierre3)\n",
    "\n",
    "## Modelo clásico <a name=\"#clasico\"></a>\n",
    "\n",
    "De manera simple, se asume que la economía es cerrada y no existe gobierno. El modelo se construye a partir de tres funciones. En orden, la primera es la relación inversa entre la tasa de beneficio y la tasa de salario. Para obtener esta función, se parte de la identidad contable del producto por el método de los ingresos:\n",
    "\n",
    "\\begin{align*}\n",
    "    pY &\\equiv wN + rPK \\\\\n",
    "\\end{align*}\n",
    "\n",
    "donde $p$ es el precio por producto, $Y$ es la producción, $w$ es la tasa de salario nominal, $N$ es la cantidad de trabajadores, $r$ es la tasa de beneficio y $K$ es el stock de capital. Al dividir entre $pY$ y reordenando, se obtiene la primera función:\n",
    "\n",
    "\\begin{align}\n",
    "    r &= \\frac{1}{\\beta}- \\frac{\\omega \\alpha} {\\beta} \\\\\n",
    "\\end{align}\n",
    "\n",
    "donde $\\omega$ es la tasa de salario real, $\\beta$ es el coeficiente capital-producto y $\\alpha$ es el coeficiente trabajo-producto. $(1)$ muestra una relación inversa entre la tasa de beneficio y la tasa de salario.\n",
    "\n",
    "La segunda función es la relación inversa entre la tasa de crecimiento del capital y el consumo per-cápita. Se parte la identidad contable del producto por el método del gasto:\n",
    "\n",
    "\\begin{align*}\n",
    "    pY &\\equiv pC + pI \\\\\n",
    "\\end{align*}\n",
    "\n",
    "donde $C$ es consumo y $I$ es la inversión. Al dividir, nuevamente, por $pY$ la identidad y ordenando, se obtiene la segunda función:\n",
    "\n",
    "\\begin{align}\n",
    "    c &= \\frac{1}{α} - \\frac{β}{a}g \\\\\n",
    "\\end{align}\n",
    "\n",
    "donde $c$ es el consumo per-cápita y $g$ es la tasa de acumulación del capital. $(2)$ muestra una relación inversa entre el consumo per-cápita y la tasa de acumulación del capital (o tasa de crecimiento de la inversión).\n",
    "\n",
    "Finalmente, la tercera función describe el comportamiento de la tasa de acumulación del capital por parte de los capitalistas. En este modelo, las decisiones de ahorro son las decisiones de inversión. La tasa de acumulación del capital es una fracción de la tasa de beneficio si esta logra superar la tasa de beneficios mínima.\n",
    "\n",
    "\\begin{align}\n",
    "   g &= s_{r}(r - r_{min})\n",
    "\\end{align}\n",
    "\n",
    "donde $s_{r}$ es la propensión a ahorrar y $r_{min}$ es la tasa de beneficios mínima que esperan recibir los capitalistas."
   ]
  },
  {
   "cell_type": "code",
   "execution_count": 50,
   "id": "46cf9923",
   "metadata": {},
   "outputs": [],
   "source": [
    "\"FUNCIONES\"\n",
    "\n",
    "def profit_rate(α, β, w):\n",
    "    return (1 - w*α)/ β\n",
    "\n",
    "def consumption(α, β, g):\n",
    "    return 1/α - (β*g)/α\n",
    "\n",
    "def investment(sr, rmin, r):\n",
    "    return sr*(r - rmin)"
   ]
  },
  {
   "cell_type": "markdown",
   "id": "cef7ea28",
   "metadata": {},
   "source": [
    "En el sistema $(1)$, $(2)$ y $(3)$ se tienen tres ecuaciones y cuatro variables endógenas. Por tanto, el modelo es indeterminado: existe un grado de libertad. Entonces, se pueden desarrollar distintos \"cierres\" para el modelo clásico. Blecker y Setterfield (2019) proponen cuatro \"cierres\":\n",
    "    \n",
    "**Cierre 1**: la tasa de salario real es exógena.\n",
    "    \n",
    "**Cierre 2**: la participación de los salarios (o la participación de los beneficios) es exógena.\n",
    "\n",
    "**Cierre 3**: se agrega una función de comportamiento de la oferta de trabajo.\n",
    "\n",
    "**Cierre 4**:\n",
    "\n",
    "\n",
    "## Cierre 1: Tasa de salario real exógena <a name=\"#Cierre1\"></a>\n",
    "\n",
    "El modelo se desarrolla de manera secuencial: dada la tasa de salario real, se obtiene la tasa de beneficios $(1)$; luego, con la tasa de beneficios, se obtiene la tasa de acumulación de capital $(3)$; finalmente, con la tasa de crecimiento del capital, se obtiene el consumo per-cápita $(2)$. \n",
    "\n",
    "Se establecen los siguientes parámetros y la variable exógena tasa de salario real, los cuales deben cumplir las siguientes condiciones: \n",
    "\n",
    "\\begin{align*}\n",
    "   r &< \\frac{1}{β}\n",
    "\\end{align*}\n",
    "\n",
    "\\begin{align*}\n",
    "   \\omega &< \\frac{1}{α}\n",
    "\\end{align*}\n"
   ]
  },
  {
   "cell_type": "code",
   "execution_count": 51,
   "id": "a2e8f0bd",
   "metadata": {},
   "outputs": [],
   "source": [
    "\"PARÁMETROS\"\n",
    "\n",
    "α_0      = 1.2   # Coeficiente trabajo-producto\n",
    "β_0      = 1.02  # Coeficiente capital-producto\n",
    "rmin_0   = 0.12  # Tasa de beneficio mínima\n",
    "sr_0     = 0.88  # Propensión a ahorrar/invertir\n",
    "wr_exo   = 0.42  # Tasa de salario real exógeno"
   ]
  },
  {
   "cell_type": "markdown",
   "id": "4d9ea09e",
   "metadata": {},
   "source": [
    "Y los dominios y funciones de cada una de las ecuaciones para poder graficarlas:"
   ]
  },
  {
   "cell_type": "code",
   "execution_count": 52,
   "id": "8dd0ca4d",
   "metadata": {},
   "outputs": [],
   "source": [
    "\"DEFINIENDO LAS ECUACIONES\"\n",
    "\n",
    "d_w   = np.arange(0, 1/α_0, 0.001)      # Dominio de función 1\n",
    "d_g   = np.arange(0, 1/β_0, 0.001)      # Dominio de función 2\n",
    "d_r   = np.arange(rmin_0, 1/α_0, 0.001) # Dominio de función 3\n",
    "r     = profit_rate(α_0, β_0, d_w) \n",
    "c     = consumption(α_0, β_0, d_g)\n",
    "g     = investment(sr_0, rmin_0, d_r)"
   ]
  },
  {
   "cell_type": "markdown",
   "id": "92ce7429",
   "metadata": {},
   "source": [
    "Ahora, se pueden graficar las tres ecuaciones:"
   ]
  },
  {
   "cell_type": "code",
   "execution_count": 53,
   "id": "2c7ec521",
   "metadata": {},
   "outputs": [
    {
     "data": {
      "image/png": "[encoded data removed]",
      "text/plain": [
       "<Figure size 720x720 with 1 Axes>"
      ]
     },
     "metadata": {
      "needs_background": "light"
     },
     "output_type": "display_data"
    }
   ],
   "source": [
    "\"GRÁFICO DE LAS ECUACIONES\"\n",
    "\n",
    "xmin, xmax, ymin, ymax = -1.4, 1.4, -1.4, 1.4\n",
    "\n",
    "fig, ax = plt.subplots(figsize=(10, 10))\n",
    "ax.plot(-d_w, r, color = \"C01\")\n",
    "ax.plot(g, d_r,  color = \"C02\")\n",
    "ax.plot(d_g, -c, color = \"C03\")\n",
    "ax.plot(-d_w , -d_w , ls='--', color = \"C04\")\n",
    "ax.text(-d_w[300], r[100], \"$r$\")\n",
    "ax.text(g[-10], d_r[-100], \"$g$\")\n",
    "ax.text(d_g[200], -c[100], \"$c$\")\n",
    "ax.text(-d_w[-200], -d_w[-100], \"$\\omega$\")\n",
    "ax.text(xmin-0.1, 0, \"$\\omega$\")\n",
    "ax.text(xmax+0.1, 0, \"$g$\")\n",
    "ax.text(0, ymax+0.1, \"$r$\")\n",
    "ax.text(0, ymin-0.1, \"$\\omega, c$\")\n",
    "ax.set(xlim=(xmin, xmax), ylim=(ymin, ymax), aspect='equal')\n",
    "ax.spines['bottom'].set_position('zero')\n",
    "ax.spines['left'].set_position('zero')\n",
    "ax.spines['top'].set_visible(False)\n",
    "ax.spines['right'].set_visible(False)\n",
    "ax.xaxis.set_visible(False)\n",
    "ax.yaxis.set_visible(False)\n",
    "plt.show()"
   ]
  },
  {
   "cell_type": "markdown",
   "id": "2ef73a6b",
   "metadata": {},
   "source": [
    "Observe en el gráfico que en el tercer cuadrante se graficó una ecuación de identidad del salario real, $\\omega = \\omega$. \n",
    "\n",
    "La solución es secuencial:\n",
    "\n",
    "\\begin{align*}\n",
    "   \\omega \\Rightarrow r \\Rightarrow g \\Rightarrow c\n",
    "\\end{align*}\n"
   ]
  },
  {
   "cell_type": "code",
   "execution_count": 54,
   "id": "360d2213",
   "metadata": {},
   "outputs": [],
   "source": [
    "\"SOLUCIÓN\"\n",
    "\n",
    "r1_eq  = profit_rate(α_0, β_0, wr_exo)\n",
    "g1_eq  = investment(sr_0,  rmin_0, r1_eq)\n",
    "c1_eq  = consumption(α_0, β_0, g1_eq)"
   ]
  },
  {
   "cell_type": "markdown",
   "id": "50b973a3",
   "metadata": {},
   "source": [
    "Graficando la solución:"
   ]
  },
  {
   "cell_type": "code",
   "execution_count": 55,
   "id": "c4050e96",
   "metadata": {},
   "outputs": [
    {
     "data": {
      "image/png": "[encoded data removed]",
      "text/plain": [
       "<Figure size 720x720 with 1 Axes>"
      ]
     },
     "metadata": {
      "needs_background": "light"
     },
     "output_type": "display_data"
    }
   ],
   "source": [
    "\"GRÁFICO DE LA SOLUCIÓN\"\n",
    "\n",
    "xmin, xmax, ymin, ymax = -1.4, 1.4, -1.4, 1.4\n",
    "\n",
    "fig, ax = plt.subplots(figsize=(10, 10))\n",
    "ax.plot(-d_w, r, color = \"C01\")\n",
    "ax.plot(g, d_r, color = \"C02\")\n",
    "ax.plot(d_g,-c , color = \"C03\")\n",
    "ax.plot(-d_w , -d_w , ls='--', color = \"C04\")\n",
    "ax.plot([-wr_exo, -wr_exo], [0, r1_eq], c= \"black\", ls='--', lw=1, alpha=0.5)\n",
    "ax.plot([0, -wr_exo], [r1_eq , r1_eq ], c= \"black\", ls='--', lw=1, alpha=0.5)\n",
    "ax.plot([g1_eq, g1_eq], [0, r1_eq], c= \"black\", ls='--', lw=1, alpha=0.5)\n",
    "ax.plot([0, g1_eq], [r1_eq, r1_eq], c= \"black\", ls='--', lw=1, alpha=0.5)\n",
    "ax.plot([g1_eq, g1_eq], [0, -c1_eq], c= \"black\", ls='--', lw=1, alpha=0.5)\n",
    "ax.plot([0, g1_eq], [-c1_eq, -c1_eq], c= \"black\", ls='--', lw=1, alpha=0.5)\n",
    "ax.plot([-wr_exo, -wr_exo], [0, -wr_exo], c= \"black\", ls='--', lw=1, alpha=0.5)\n",
    "ax.plot([0, -wr_exo], [-wr_exo, -wr_exo], c= \"black\", ls='--', lw=1, alpha=0.5)\n",
    "ax.text(-d_w[300], r[100], \"$r$\")\n",
    "ax.text(g[-10], d_r[-100], \"$g$\")\n",
    "ax.text(d_g[200], -c[100], \"$c$\")\n",
    "ax.text(-d_w[-200], -d_w[-100], \"$\\omega$\")\n",
    "ax.text(xmin-0.1, 0, \"$\\omega$\")\n",
    "ax.text(xmax+0.1, 0, \"$g$\")\n",
    "ax.text(0, ymax+0.1, \"$r$\")\n",
    "ax.text(0, ymin-0.1, \"$\\omega, c$\")\n",
    "ax.set(xlim=(xmin, xmax), ylim=(ymin, ymax), aspect='equal')\n",
    "ax.spines['bottom'].set_position('zero')\n",
    "ax.spines['left'].set_position('zero')\n",
    "ax.spines['top'].set_visible(False)\n",
    "ax.spines['right'].set_visible(False)\n",
    "ax.xaxis.set_visible(False)\n",
    "ax.yaxis.set_visible(False)\n",
    "plt.show()"
   ]
  },
  {
   "cell_type": "markdown",
   "id": "c718cbdf",
   "metadata": {},
   "source": [
    "Suponiendo que los trabajadores gastan todo sus ingresos, la tasa de salario real es igual al consumo per-cápita de los trabajadores; por tanto, la diferencia entre el consumo per-cápita y el la tasa de salario real es el consumo per-cápita por parte de los capitalistas. Formalmente:\n",
    "\n",
    "\\begin{align*}\n",
    "   c &= c_{\\omega} + c_{r} \\\\\n",
    "   \\omega &= c_{\\omega} \\\\\n",
    "   c_{r} &= c - \\omega\n",
    "\\end{align*}\n",
    "\n",
    "\n",
    "donde $c_{\\omega}$ es el consumo per-cápita de los trabajadores, $c_{r}$ es el consumo per-cápita de los capitalistas."
   ]
  },
  {
   "cell_type": "code",
   "execution_count": 56,
   "id": "ed181fb8",
   "metadata": {},
   "outputs": [
    {
     "data": {
      "text/plain": [
       "0.1393600000000001"
      ]
     },
     "execution_count": 56,
     "metadata": {},
     "output_type": "execute_result"
    }
   ],
   "source": [
    "c1_eq - wr_exo  # Consumo per-cápita de los capitalistas"
   ]
  },
  {
   "cell_type": "markdown",
   "id": "62750283",
   "metadata": {},
   "source": [
    "## Cierre 2: Participación de los salarios exógena <a name=\"#Cierre2\"></a>"
   ]
  },
  {
   "cell_type": "markdown",
   "id": "4a57172e",
   "metadata": {},
   "source": [
    "El modelo también se desarrolla de manera secuencial: dado el coeficiente técnico trabajo-producto, con la participación de los salarios se obtiene la tasa de salario real; después, con la tasa de salario real se obtiene la tasa de beneficios $(1)$; luego, con la tasa de beneficios, se obtiene la tasa de acumulación de capital $(3)$; finalmente, con la tasa de crecimiento del capital, se obtiene el consumo per-cápita $(2)$. \n",
    "\n",
    "Se establecen los siguientes parámetros y la variable exógena participación de los salarios:"
   ]
  },
  {
   "cell_type": "code",
   "execution_count": 57,
   "id": "4c656335",
   "metadata": {},
   "outputs": [],
   "source": [
    "\"PARÁMETROS\"\n",
    "\n",
    "α_0      = 1.2   # Coeficiente trabajo-producto\n",
    "β_0      = 1.02  # Coeficiente capital-producto\n",
    "rmin_0   = 0.12  # Rentabilidad mínima\n",
    "sr_0     = 0.88  # Propensión a ahorrar (invertir)\n",
    "W_0      = 0.38  # Participación de los salarios"
   ]
  },
  {
   "cell_type": "markdown",
   "id": "d50f06e0",
   "metadata": {},
   "source": [
    "De nuevo, los dominios y funciones de cada una de las ecuaciones para poder graficarlas:"
   ]
  },
  {
   "cell_type": "code",
   "execution_count": 58,
   "id": "4a2f2081",
   "metadata": {},
   "outputs": [],
   "source": [
    "\"DEFINIENDO LAS ECUACIONES\"\n",
    "\n",
    "d_w    = np.arange(0, 1/α_0, 0.001)      # Dominio de función 1\n",
    "d_g    = np.arange(0, 1/β_0, 0.001)      # Dominio de función 2\n",
    "d_r    = np.arange(rmin_0, 1/α_0, 0.001) # Dominio de función 3\n",
    "r      = profit_rate(α_0, β_0, d_w) \n",
    "c      = consumption(α_0, β_0, d_g)\n",
    "g      = investment(sr_0, rmin_0, d_r)"
   ]
  },
  {
   "cell_type": "markdown",
   "id": "57c0743c",
   "metadata": {},
   "source": [
    "Se debe obtener la tasa de salario real. La participación de los salarios es igual a los salarios totales divido entre el producto total en términos nominales:\n",
    "\n",
    "\\begin{align*}\n",
    "   \\Omega &= \\frac{wL}{pY} = (\\frac{w}{p}) (\\frac{N}{Y})\n",
    "\\end{align*}\n",
    "\n",
    "donde $\\Omega$ es la participación de los salarios. Como se mostró arriba, $\\frac{w}{p}$ es el salario real y $\\frac{N}{Y}$ es el coeficiente técnico trabajo-producto, entonces la participación de los salarios se puede expresar también de la siguiente manera:\n",
    "\n",
    "\\begin{align*}\n",
    "   \\Omega &= \\omega \\alpha\n",
    "\\end{align*}\n",
    "\n",
    "Al dividir ambos lados por $\\alpha$, se tiene que la tasa de salario real es igual a la participación de los salaiores entre el coeficiente técnico trabajo-producto\n",
    "\n",
    "\\begin{align*}\n",
    "   \\omega = \\frac{\\Omega}{\\alpha}\n",
    "\\end{align*}\n",
    "\n",
    "La solución es también secuencial:\n",
    "\n",
    "\\begin{align*}\n",
    "   \\Omega \\Rightarrow  \\omega \\Rightarrow r \\Rightarrow g \\Rightarrow c\n",
    "\\end{align*}\n"
   ]
  },
  {
   "cell_type": "code",
   "execution_count": 59,
   "id": "9acf8e1d",
   "metadata": {},
   "outputs": [],
   "source": [
    "\"SOLUCIÓN\"\n",
    "\n",
    "wr_par  = (W_0/α_0)                      # Tasa de salario real \n",
    "r2_eq   = profit_rate(α_0, β_0, wr_par)   \n",
    "g2_eq   = investment(sr_0, rmin_0, r2_eq) \n",
    "c2_eq   = consumption(α_0, β_0, g2_eq)   "
   ]
  },
  {
   "cell_type": "markdown",
   "id": "cd7ed4e6",
   "metadata": {},
   "source": [
    "Graficando la solución:"
   ]
  },
  {
   "cell_type": "code",
   "execution_count": 60,
   "id": "0501a567",
   "metadata": {},
   "outputs": [
    {
     "data": {
      "image/png": "[encoded data removed]",
      "text/plain": [
       "<Figure size 720x720 with 1 Axes>"
      ]
     },
     "metadata": {
      "needs_background": "light"
     },
     "output_type": "display_data"
    }
   ],
   "source": [
    "\"REPRESENTACIÓN GRÁFICA\"\n",
    "\n",
    "xmin, xmax, ymin, ymax = -1.4, 1.4, -1.4, 1.4\n",
    "\n",
    "fig, ax = plt.subplots(figsize=(10, 10))\n",
    "ax.plot(-d_w, r, color = \"C01\")\n",
    "ax.plot(g, d_r,  color = \"C02\")\n",
    "ax.plot(d_g, -c, color = \"C03\")\n",
    "ax.plot(-d_w , -d_w , ls='--', color = \"C04\")\n",
    "ax.plot([-wr_par, -wr_par], [0, r2_eq], c= \"black\", ls='--', lw=1, alpha=0.5)\n",
    "ax.plot([0, -wr_par], [r2_eq , r2_eq ], c= \"black\", ls='--', lw=1, alpha=0.5)\n",
    "ax.plot([g2_eq, g2_eq], [0, r2_eq], c= \"black\", ls='--', lw=1, alpha=0.5)\n",
    "ax.plot([0, g2_eq], [r2_eq, r2_eq], c= \"black\", ls='--', lw=1, alpha=0.5)\n",
    "ax.plot([g2_eq, g2_eq], [0, -c2_eq], c= \"black\", ls='--', lw=1, alpha=0.5)\n",
    "ax.plot([0, g2_eq], [-c2_eq, -c2_eq], c= \"black\", ls='--', lw=1, alpha=0.5)\n",
    "ax.plot([-wr_par, -wr_par], [0, -wr_par], c= \"black\", ls='--', lw=1, alpha=0.5)\n",
    "ax.plot([0, -wr_par], [-wr_par, -wr_par], c= \"black\", ls='--', lw=1, alpha=0.5)\n",
    "ax.text(-d_w[300], r[100], \"$r$\")\n",
    "ax.text(g[-10], d_r[-100], \"$g$\")\n",
    "ax.text(d_g[200], -c[100], \"$c$\")\n",
    "ax.text(-d_w[-200], -d_w[-100], \"$\\omega$\")\n",
    "ax.text(xmin-0.1, 0, \"$\\omega$\")\n",
    "ax.text(xmax+0.1, 0, \"$g$\")\n",
    "ax.text(0, ymax+0.1, \"$r$\")\n",
    "ax.text(0, ymin-0.1, \"$\\omega, c$\")\n",
    "ax.set(xlim=(xmin, xmax), ylim=(ymin, ymax), aspect='equal')\n",
    "ax.spines['bottom'].set_position('zero')\n",
    "ax.spines['left'].set_position('zero')\n",
    "ax.spines['top'].set_visible(False)\n",
    "ax.spines['right'].set_visible(False)\n",
    "ax.xaxis.set_visible(False)\n",
    "ax.yaxis.set_visible(False)\n",
    "plt.show()"
   ]
  },
  {
   "cell_type": "markdown",
   "id": "aa038ef7",
   "metadata": {},
   "source": [
    "## Cierre 3: Con una ecuación de la tasa de crecimiento de la oferta de trabajo <a name=\"#Cierre3\"></a>"
   ]
  },
  {
   "cell_type": "markdown",
   "id": "7d6dd985",
   "metadata": {},
   "source": [
    "Al resolver conjuntamente la ecuación de la tasa de acumulación del capital y la ecuación de la oferta de trabajo, se obtienen la tasa de beneficios y la tasa de acumulación de capital. Con estas dos variables, se obtienen, de manera secuencial, la tasa de salario real $(1)$ y la tasa de consumo per-cápita $(2)$."
   ]
  },
  {
   "cell_type": "markdown",
   "id": "851a70d5",
   "metadata": {},
   "source": [
    "### Ecuación de oferta de trabajo"
   ]
  },
  {
   "cell_type": "code",
   "execution_count": 61,
   "id": "57a20944",
   "metadata": {},
   "outputs": [],
   "source": [
    "# Función de oferta de trabajo \n",
    "\n",
    "def labor_supply(n0, n1, α, β, r): \n",
    "    return n0 + n1*(1 - β*r)/α"
   ]
  },
  {
   "cell_type": "markdown",
   "id": "62449070",
   "metadata": {},
   "source": [
    "Tenga en cuenta que la ecuación de la oferta de trabajo solo puede cerrar el modelo porque se encuentra relacionada con las variables endógenas establecidas, específicamente con la tasa de beneficios; de esa manera, el modelo se resuelve con cuatro ecuaciones y cuatro variables endógenas.\n",
    "\n",
    "Se establecen los siguientes parámetros:"
   ]
  },
  {
   "cell_type": "code",
   "execution_count": 62,
   "id": "bfb29ef4",
   "metadata": {},
   "outputs": [],
   "source": [
    "\"PARÁMETROS\"\n",
    "\n",
    "α_0      = 1.2   # Coeficiente trabajo-producto\n",
    "β_0      = 1.02  # Coeficiente capital-producto\n",
    "rmin_0   = 0.12  # Rentabilidad mínima\n",
    "sr_0     = 0.88  # Propensión a ahorrar (invertir)\n",
    "n0_0     = 0.2 # Término autónomo  \n",
    "n1_0     = 0.7 # Sensibilidad de la oferta de trabajo a cambios en el salario real"
   ]
  },
  {
   "cell_type": "markdown",
   "id": "cf1271a1",
   "metadata": {},
   "source": [
    "Una vez más, los dominios de las ecuaciones para la representación gráfica (note que se incorpora la ecuación $n$):"
   ]
  },
  {
   "cell_type": "code",
   "execution_count": 63,
   "id": "fd3adb1f",
   "metadata": {},
   "outputs": [],
   "source": [
    "\"DEFINIENDO FUNCIONES\"\n",
    "\n",
    "d_w    = np.arange(0, 1/α_0, 0.001)      # Dominio de la Ecuación 1\n",
    "d_r    = np.arange(rmin_0, 1/α_0, 0.001) # Dominio de la Ecuación 2\n",
    "d_g    = np.arange(0, 1/β_0, 0.001)      # Dominio de la Ecuación 3\n",
    "r      = profit_rate(α_0, β_0, d_w) \n",
    "g      = investment(sr_0, rmin_0, d_r)\n",
    "n      = labor_supply(n0_0, n1_0, α_0, β_0, d_r)\n",
    "c      = consumption(α_0, β_0, d_g)"
   ]
  },
  {
   "cell_type": "markdown",
   "id": "73d4f3e2",
   "metadata": {},
   "source": [
    "Primero, se resuelve simultáneamente la ecuación $g$ y la ecuación $n$, a partir de la condición de equilibrio $n = g $. Una manera sencilla computacionalente es emplear matrices. Las variables endógenas de este pequeño sistema de ecuaciones es la tasa de beneficios y la tasa de acumulación de capital. Entonces, se tiene que definir las matrices $A$ y $B$. De $(1)$ y $(2)$:\n",
    "\n",
    "\\begin{align*}\n",
    "   g &= s_{r}(r - r_{min}) \\\\\\\\\n",
    "   n &= n_{0} + \\frac{n_{1}(1 - βr)}{α} \\\\\n",
    "\\end{align*}\n",
    "\n",
    "Ordenando:\n",
    "\n",
    "\\begin{align*}\n",
    "   g - s_{r}r  &= - s_{r}r_{min} \\\\\\\\\n",
    "   n + \\frac{n_{1}β}{α}r &= n_{0} + \\frac{n_{1}}{α} \\\\\n",
    "\\end{align*}\n",
    "\n",
    "Matricialmente, dada la condición de equilibrio $n = g $:\n",
    "\n",
    "\\begin{align*}\n",
    "AX = B\n",
    "\\end{align*}\n",
    "\n",
    "donde\n",
    "$A=\n",
    "\\begin{pmatrix}\n",
    "1 & -s_{r}\\\\\n",
    "1 & \\frac{n_{1}β}{α} \\\\\n",
    "\\end{pmatrix}$, $B=\n",
    "\\begin{pmatrix}\n",
    "-s_{r}r_{min}\\\\\n",
    "n_{0} + \\frac{n_{1}}{α} \\\\\n",
    "\\end{pmatrix}$, $X=\n",
    "\\begin{pmatrix}\n",
    "g \\\\\n",
    "r \\\\\n",
    "\\end{pmatrix}$\n",
    "\n",
    "Si la matriz $A$ tiene inversa, $A^{-1}$, entonces al premultiplicar a ambos lados por $A^{-1}$ se tiene que la solución de este sistema es de la forma:\n",
    "\n",
    "\\begin{align*}\n",
    "X = A^{-1}B\n",
    "\\end{align*}"
   ]
  },
  {
   "cell_type": "code",
   "execution_count": 64,
   "id": "067b6512",
   "metadata": {},
   "outputs": [],
   "source": [
    "\"SOLUCIÓN \"\n",
    "\n",
    "# Matrices A y B\n",
    "\n",
    "A = np.array([[1, -sr_0],\n",
    "                 [1,n1_0*β_0/α_0]])\n",
    "\n",
    "B = np.array([-sr_0*rmin_0,+n0_0 + n1_0/α_0])\n",
    "\n",
    "# Obteniendo la matriz inversa de A\n",
    "\n",
    "A_inv = np.linalg.inv(A)\n",
    "\n",
    "# Resolviendo\n",
    "\n",
    "n3_eq, r3_eq = np.dot(A_inv, B) "
   ]
  },
  {
   "cell_type": "markdown",
   "id": "7aaacb7a",
   "metadata": {},
   "source": [
    "Segundo, con los valores de $g$ y de $r$ se obtienen las otras dos variables endógenas; no obstante, note que para hallar la tasa de salario real no se puede emplear $(1)$; más bien, se tiene que emplear la función inversa de $(1)$. Es decir,\n",
    "\n",
    "$ r (w)^{-1} = w (r) = \\frac{(1 - rβ)}{α}  $     (Ecuación 1')\n",
    "\n",
    "De esta manera, al resolver la Ecuación 1' se obtiene la tasa de salario real y al resolver la Ecuación 3 se obtiene el consumo per-cápita. "
   ]
  },
  {
   "cell_type": "code",
   "execution_count": 65,
   "id": "b44b04cb",
   "metadata": {},
   "outputs": [],
   "source": [
    "\"SOLUCIÓN (continúa)\"\n",
    "\n",
    "# Función inversa de la Ecuación 1\n",
    "\n",
    "def invprofit_rate(α, β, r):\n",
    "    return (1 -r*β)/α\n",
    "\n",
    "r3_eq              \n",
    "g3_eq    = n3_eq  # Equilibrio n = g \n",
    "w3_eq    = invprofit_rate(α_0, β_0, r3_eq)\n",
    "c3_eq    = consumption(α_0, β_0, g3_eq)"
   ]
  },
  {
   "cell_type": "markdown",
   "id": "b980f13a",
   "metadata": {},
   "source": [
    "Graficando la solución:"
   ]
  },
  {
   "cell_type": "code",
   "execution_count": 66,
   "id": "2613982c",
   "metadata": {},
   "outputs": [
    {
     "data": {
      "image/png": "[encoded data removed]",
      "text/plain": [
       "<Figure size 720x720 with 1 Axes>"
      ]
     },
     "metadata": {
      "needs_background": "light"
     },
     "output_type": "display_data"
    }
   ],
   "source": [
    "\"REPRESENTACIÓN GRÁFICA\"\n",
    "\n",
    "xmin, xmax, ymin, ymax = -1.4, 1.4, -1.4, 1.4\n",
    "\n",
    "fig, ax = plt.subplots(figsize=(10, 10))\n",
    "ax.plot(-d_w, r, color = \"C01\")\n",
    "ax.plot(g, d_r, color = \"C02\")\n",
    "ax.plot(n, d_r, color = \"C06\")\n",
    "ax.plot(d_g,-c , color = \"C03\")\n",
    "ax.plot(-d_w , -d_w , ls='--', color = \"C04\")\n",
    "ax.plot([-w3_eq, -w3_eq], [0, r2_eq], c= \"black\", ls='--', lw=1, alpha=0.5)\n",
    "ax.plot([0, -w3_eq], [r3_eq , r3_eq ], c= \"black\", ls='--', lw=1, alpha=0.5)\n",
    "ax.plot([g3_eq, g3_eq], [0, r3_eq], c= \"black\", ls='--', lw=1, alpha=0.5)\n",
    "ax.plot([0, g3_eq], [r3_eq, r3_eq], c= \"black\", ls='--', lw=1, alpha=0.5)\n",
    "ax.plot([g3_eq, g3_eq], [0, -c3_eq], c= \"black\", ls='--', lw=1, alpha=0.5)\n",
    "ax.plot([0, g3_eq], [-c3_eq, -c3_eq], c= \"black\", ls='--', lw=1, alpha=0.5)\n",
    "ax.plot([-w3_eq, -w3_eq], [0, -w3_eq], c= \"black\", ls='--', lw=1, alpha=0.5)\n",
    "ax.plot([0, -wr_par], [-wr_par, -wr_par], c= \"black\", ls='--', lw=1, alpha=0.5)\n",
    "ax.text(-d_w[300], r[100], \"$r$\")\n",
    "ax.text(g[-10],d_r[-100], \"$g$\")\n",
    "ax.text(n[150], d_r[200], \"$n$\")\n",
    "ax.text(d_g[200], -c[100], \"$c$\")\n",
    "ax.text(-d_w[-200], -d_w[-100], \"$\\omega$\")\n",
    "ax.text(xmin-0.1, 0, \"$\\omega$\")\n",
    "ax.text(xmax+0.1, 0, \"$g$\")\n",
    "ax.text(0, ymax+0.1, \"$r$\")\n",
    "ax.text(0, ymin-0.1, \"$\\omega, c$\")\n",
    "ax.set(xlim=(xmin, xmax), ylim=(ymin, ymax), aspect='equal')\n",
    "ax.spines['bottom'].set_position('zero')\n",
    "ax.spines['left'].set_position('zero')\n",
    "ax.spines['top'].set_visible(False)\n",
    "ax.spines['right'].set_visible(False)\n",
    "ax.xaxis.set_visible(False)\n",
    "ax.yaxis.set_visible(False)\n",
    "plt.show()"
   ]
  },
  {
   "cell_type": "markdown",
   "id": "7d146394",
   "metadata": {},
   "source": [
    "# Referencias\n",
    "\n",
    "Blecker, R. A., & Setterfield, M. (2019). Heterodox macroeconomics: Models of demand, distribution and growth. Edward Elgar Publishing."
   ]
  }
 ],
 "metadata": {
  "kernelspec": {
   "display_name": "Python 3 (ipykernel)",
   "language": "python",
   "name": "python3"
  },
  "language_info": {
   "codemirror_mode": {
    "name": "ipython",
    "version": 3
   },
   "file_extension": ".py",
   "mimetype": "text/x-python",
   "name": "python",
   "nbconvert_exporter": "python",
   "pygments_lexer": "ipython3",
   "version": "3.9.6"
  }
 },
 "nbformat": 4,
 "nbformat_minor": 5
}
